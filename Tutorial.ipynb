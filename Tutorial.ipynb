{
 "cells": [
  {
   "cell_type": "markdown",
   "id": "3bc9c84b",
   "metadata": {},
   "source": [
    "# DeepDonor: Computational discovery of donor materials with high power conversion efficiency for organic solar cells"
   ]
  },
  {
   "cell_type": "markdown",
   "id": "fdcf8b2d",
   "metadata": {},
   "source": [
    "Deep learning method (DeepDonor) has been developed to discover the high-performance donor materials for organic solar cells by predicting their power conversion efficiency (PCE) using the quantum deep field (QDF) model with excellent extrapolation performance. "
   ]
  },
  {
   "cell_type": "markdown",
   "id": "50634fca",
   "metadata": {},
   "source": [
    "## Dataset preparation"
   ]
  },
  {
   "cell_type": "markdown",
   "id": "e2cadee2",
   "metadata": {},
   "source": [
    "In order to evaluate the models in different PCE intervals, stratified sampling was adopted by using scikit-learn. The data in each dataset were divided into 18 intervals based on their PCE values, and the training, validation and test sets were split randomly with a ratio of 8:1:1 in each interval independently. "
   ]
  },
  {
   "cell_type": "code",
   "execution_count": 1,
   "id": "5779cce8",
   "metadata": {},
   "outputs": [],
   "source": [
    "import dataset\n",
    "from data_preprocess import dataset_process"
   ]
  },
  {
   "cell_type": "code",
   "execution_count": 2,
   "id": "07941952",
   "metadata": {},
   "outputs": [
    {
     "name": "stdout",
     "output_type": "stream",
     "text": [
      "X_train: 143    C1(C=CC=C2)=C2C3=N/C1=N\\C4=C5C(C=CC=C5)=C6N4[S...\n",
      "25     CCCCCCCCC(CCCCCCCC)N1C2=C(C=C(C3=C(CCCCCC)C=C(...\n",
      "888    CCCCC(CC)CC1(CC(CC)CCCC)C2=C(SC(C3=CC=C(C4=C(F...\n",
      "700    N#C/C(C#N)=C/C1=CC2=C(C(S3)=C(C4=C3C5=C(C6=C(N...\n",
      "478    CCCCCCC(S1)=CC=C1C2=CC=C(S2)C(S3)=CC=C3C(N(CC(...\n",
      "                             ...                        \n",
      "896    FC1=C(C2=NSN=C2C(C3=CC=C(C4=CC5=C(C(C=C(C(CC(C...\n",
      "576    CCCCCCC(S1)=CC=C1C2=C3C(C=C(C4=CC=C(C5=CC(CCCC...\n",
      "335    CCCCCCC1=C(SC(/C=C(C#N)\\C#N)=C1CCCCCC)/C=C/C(S...\n",
      "652    C1(C2=C(C3=CC=CC=C31)C=CC4=C52)=CC=C5C6=CC=C7C...\n",
      "32     CC12C3(C)SC(C4=CC=C(/C=C/C5=CC=C(N(C6=CC=C(/C=...\n",
      "Name: SMILES, Length: 882, dtype: object\n",
      "y_train: 143    0.0\n",
      "25     0.0\n",
      "888    8.0\n",
      "700    4.0\n",
      "478    2.0\n",
      "      ... \n",
      "896    8.0\n",
      "576    3.0\n",
      "335    1.0\n",
      "652    4.0\n",
      "32     0.0\n",
      "Name: PCE, Length: 882, dtype: float64\n",
      "X_train: 123    O=C1C2=C(C3=NC=C(C4=CC(SC(C=CC=C5)=C5N6CC(CCCC...\n",
      "655    O=C1N(CC(CC)CCCC)C(C2=CC=C(C(S3)=CC(C3=C4OCC(C...\n",
      "244    CCCCCCC1=C(/C=C\\C2=CC=C(C=C2)N(C3=CC=CC=C3)C4=...\n",
      "942    CCCCCCCCC1=C(C2=CC=C(/C=C3/SC(=S)N(C(CC)CCCC)C...\n",
      "875    CCCCCCCCC1=C(C2=C(CCCCCCCC)C=C(C3=CC(SC(/C=C(C...\n",
      "                             ...                        \n",
      "554    S=C(S/C1=C/C2=CC3=C(C=C2)N(CC)C4=C3C=C(C5=CC=C...\n",
      "176    CCCCCCCCN1N=C2C(C3=CC=C(/C=C/C4=CC=C(N(C5=CC=C...\n",
      "667    O=C1N(CC(CC)CCCC)C(C2=CC=C(S2)C#CC(S3)=CC(C3=C...\n",
      "349    O=C1C2=CC(C3=CC=C(C4=CC=C(CCCCCC)S4)S3)=CC=C2N...\n",
      "543    O=C(N(CC)C(N(CC)C/1=O)=S)C1=C\\C2=C(CCCCCC)C=C(...\n",
      "Name: SMILES, Length: 882, dtype: object\n",
      "y_train: 123     0.0\n",
      "655     4.0\n",
      "244     1.0\n",
      "942    11.0\n",
      "875     7.0\n",
      "       ... \n",
      "554     3.0\n",
      "176     0.0\n",
      "667     4.0\n",
      "349     1.0\n",
      "543     3.0\n",
      "Name: PCE, Length: 882, dtype: float64\n",

      "X_train: 646    S=C(N(CC)C/1=O)SC1=C\\C(S2)=CC3=C2C(C4=CC=C(CC(...\n",
      "174    CCCCC(CC)CC(S1)=CC=C1C2=C3C(C=C(C4=CC(CCCCCCCC...\n",
      "836    CCCCCCC(S1)=CC=C1C2=C(C3=CC=C(CCCCCC)S3)SC(C(S...\n",
      "410    O=C(C1=C(C2=CC=C(S2)C3=CC=CS3)SC(C4=CC=C(C5=CC...\n",
      "212    CCCCCCC1=C(C#CC2=CC=C(C#CC3=C(CCCCCC)C=C(C(C4=...\n",
      "                             ...                        \n",
      "370    CCCCCCCCCC1=C(C(S2)=CC3=C2C=CC=C3)SC(C4=C(CCCC...\n",
      "707    CCC(CCCC)CN(C1)C(C2=CC=C(C3=CC=C(C4=NC(C5=CC=C...\n",
      "513    CCCCCCCCCCCCC1=C(C2=CC=C(C(C3=CC=CC=C3)C4=CC=C...\n",
      "341    CC1=CC=C(C2=C(C=C(C3=CC4=C(C=C(C5=C6C(C(N(C)C6...\n",
      "760    CCCCCCC1=CC=C(C=C1)C2(C3=CC=C(CCCCCC)C=C3)C4=C...\n",
      "Name: SMILES, Length: 793, dtype: object\n",
      "y_train: 646    9.0\n",
      "174    3.0\n",
      "836    0.0\n",
      "410    0.0\n",
      "212    3.0\n",
      "      ... \n",
      "370    2.0\n",
      "707    1.0\n",
      "513    1.0\n",
      "341    2.0\n",
      "760    4.0\n",
      "Name: PCE, Length: 793, dtype: float64\n",
    
      "X_train: 594    O=C(OCCCCCCCC)/C(C#N)=C/C(S1)=CC=C1C(S2)=CC=C2...\n",
      "317    CC1=C(C2=CC=C(C3=CC=C(C4=CC=C(C5=C(C)C(C)=C(/C...\n",
      "38     S=C(N(CC)C/1=O)SC1=C/C2=CC(CCCCCCCC)=C(C3=CC=C...\n",
      "678    CC(C=C1)=CC=C1N(C2=CC=C(C)C=C2)C(C=C3)=CC(C4=C...\n",
      "499    CCN(C/1=O)C(SC1=C/C2=CC(S3)=C(C=C2)N(CC(CC)CCC...\n",
      "                             ...                        \n",
      "756    O=C(N(CC)C(S/1)=S)C1=C/C2=CC(CCCCCC)=C(S2)C3=C...\n",
      "392    CCCCCCCCCCCCCCCC1=C(C2=CC=C(C3=CC=C(C4=CC=C(C5...\n",
      "739    CCCCCCC1=C(C2=CC(CCCCCC)=C(C3=CC=C(/C=C(\\C#N)C...\n",
      "71     CCCCCCC1=C(SC(/C=C(C#N)/C(OCC)=O)=C1)C2=C(OCCO...\n",
      "530    CCCCC(CC)CC1=CC=C(C2=CC=C(C3=CC=C(C(S4)=CC5=C4...\n",
      "Name: SMILES, Length: 793, dtype: object\n",
      "y_train: 594     2.0\n",
      "317     4.0\n",
      "38     10.0\n",
      "678     4.0\n",
      "499     4.0\n",
      "       ... \n",
      "756     1.0\n",
      "392     0.0\n",
      "739    13.0\n",
      "71      1.0\n",
      "530     4.0\n",
      "Name: PCE, Length: 793, dtype: float64\n",
      "datasets have generated!\n"
     ]
    }
   ],
   "source": [
    "dataset_process.generate_dataset ('dataset/SM/SM.csv','train','val','test')"
   ]
  },
  {
   "cell_type": "markdown",
   "id": "c6d59115",
   "metadata": {},
   "source": [
    "## Generate 3D coordinate"
   ]
  },
  {
   "cell_type": "markdown",
   "id": "f8a6a791",
   "metadata": {},
   "source": [
    "The simplified molecular-input line-entry system (SMILES) of each molecule was processed by RDKit to obtain its 3D conformers. We applied experimental-torsion basic knowledge distance geometry (ETKDG) method (25) to generate conformers using the distance geometry and correct the conformers using the torsion angle preferences. Then, Merck molecular force field (MMFF) method(26) was used to further optimize the conformer of each molecule. All the molecules in SM and P dataset were represented as 3D coordinates after conformer optimization. The atoms and their 3D coordinates were served as the input of QDF."
   ]
  },
  {
   "cell_type": "code",
   "execution_count": 5,
   "id": "1bb25664",
   "metadata": {},
   "outputs": [],
   "source": [
    "from data_preprocess import coordinate"
   ]
  },
  {
   "cell_type": "code",
   "execution_count": 7,
   "id": "93c2fe99",
   "metadata": {},
   "outputs": [
    {
     "name": "stdout",
     "output_type": "stream",
     "text": [
     
     ]
    }
   ],
   "source": [
    "coordinate.generae_coordinate('train','test','val')"
   ]
  },
  {
   "cell_type": "markdown",
   "id": "f1d7307f",
   "metadata": {},
   "source": [
    "## Training"
   ]
  },
  {
   "cell_type": "markdown",
   "id": "58579150",
   "metadata": {},
   "source": [
    "First, the QDF-SM model was trained on the small molecule donor dataset. Then, the QDF-SM model was fine-tuned on polymer donor dataset by transfer learning, and the QDF-P model was obtained. "
   ]
  },
  {
   "cell_type": "markdown",
   "id": "d6e95542",
   "metadata": {},
   "source": [
    "It is recommended to calculate on the supercomputing!"
   ]
  },
  {
   "cell_type": "code",
   "execution_count": 9,
   "id": "18600959",
   "metadata": {},
   "outputs": [
    {
     "name": "stdout",
     "output_type": "stream",
     "text": [
      "C:\\Users\\BM109X32G-10GPU-02\\Documents\\DeepDonor\\model\n"
     ]
    }
   ],
   "source": [
    "cd model"
   ]
  },
  {
   "cell_type": "markdown",
   "id": "813fdfb2",
   "metadata": {},
   "source": [
    "bash preprocess.sh"
   ]
  },
  {
   "cell_type": "markdown",
   "id": "3abb1ed2",
   "metadata": {},
   "source": [
    "bash SM.sh"
   ]
  },
  {
   "cell_type": "markdown",
   "id": "ae7868f9",
   "metadata": {},
   "source": [
    "bash DeepP.sh"
   ]
  },
  {
   "cell_type": "markdown",
   "id": "5d35032f",
   "metadata": {},
   "source": [
    "## Predicting"
   ]
  },
  {
   "cell_type": "markdown",
   "id": "eb133d98",
   "metadata": {},
   "source": [
    "The trained model can be used to predict PCE for new donor materials"
   ]
  },
  {
   "cell_type": "markdown",
   "id": "fc7b99b3",
   "metadata": {},
   "source": [
    "The generation of 3D coordinate and preprocess are the same as training process"
   ]
  },
  {
   "cell_type": "code",
   "execution_count": null,
   "id": "7200f1ab",
   "metadata": {},
   "outputs": [],
   "source": [
    "bash Predict.sh"
   ]
  },
  {
   "cell_type": "markdown",
   "id": "7d7e610c",
   "metadata": {},
   "source": [
    "## Acknowledgement"
   ]
  },
  {
   "cell_type": "markdown",
   "id": "c325417d",
   "metadata": {},
   "source": [
    "Jinyu Sun \n",
    "\n",
    "E-mail: jinyusun@csu.edu.cn"
   ]
  }
 ],
 "metadata": {
  "kernelspec": {
   "display_name": "Python 3 (ipykernel)",
   "language": "python",
   "name": "python3"
  },
  "language_info": {
   "codemirror_mode": {
    "name": "ipython",
    "version": 3
   },
   "file_extension": ".py",
   "mimetype": "text/x-python",
   "name": "python",
   "nbconvert_exporter": "python",
   "pygments_lexer": "ipython3",
   "version": "3.8.8"
  }
 },
 "nbformat": 4,
 "nbformat_minor": 5
}
